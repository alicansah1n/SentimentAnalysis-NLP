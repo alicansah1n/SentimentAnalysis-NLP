{
 "cells": [
  {
   "cell_type": "code",
   "execution_count": 1,
   "id": "0a975840-3fc7-4651-a19c-f9f0ff5dce01",
   "metadata": {},
   "outputs": [],
   "source": [
    "# Doğal Dil İşleme Projem\n",
    "# Hazırlayan :Ali Can Şahin\n",
    "\n",
    "# Gerekli kütüphaneleri ekliyoruz\n",
    "import xml.etree.ElementTree as ET\n",
    "import pandas as pd"
   ]
  },
  {
   "cell_type": "code",
   "execution_count": 2,
   "id": "93674e8b-2f53-4995-9872-a45d62849945",
   "metadata": {},
   "outputs": [],
   "source": [
    "# Veri setini yükleme yapıyoruz\n",
    "# Dosya yoluna dikkat etmemiz gerekiyor\n",
    "dosya_yolu = r\"C:\\Users\\ALİ CAN ŞAHİN\\OneDrive\\Masaüstü\\DDİ_ÖDEVİM\\archive (1)/reviews.xml\"\n",
    "xml_agaci = ET.parse(dosya_yolu)\n",
    "kok = xml_agaci.getroot()"
   ]
  },
  {
   "cell_type": "code",
   "execution_count": 3,
   "id": "96607f05-2b29-4f03-a608-0a784af72af6",
   "metadata": {},
   "outputs": [
    {
     "name": "stdout",
     "output_type": "stream",
     "text": [
      "Series([], Name: count, dtype: int64)\n",
      "Cümle nötr bir duygu içeriyor.\n"
     ]
    }
   ],
   "source": [
    "# XML'den cümle ve duygu etiketlerini çıkarma\n",
    "# Cümleler ve Duygu Etiketleri ayırdık. XML dosyasının karışıklığını azaltmak için.\n",
    "cumleler = []\n",
    "duygular = []\n",
    "\n",
    "for cumle in kok.findall(\".//sentence\"):\n",
    "    metin = cumle.find(\"text\").text\n",
    "    fikir = cumle.find(\".//opinion\")\n",
    "    if fikir is not None:\n",
    "        duygu = fikir.get(\"polarity\")\n",
    "        cumleler.append(metin)\n",
    "        duygular.append(duygu)\n",
    "\n",
    "# Veriyi DataFrame'e dönüştürme\n",
    "# Veriyi daha kolay işlemek ve analiz edebilmek için DataFrame'e dönüştürdük.\n",
    "veri = pd.DataFrame({\"Cumle\": cumleler, \"Duygu\": duygular})\n",
    "\n",
    "# Duygu etiketlerinin sayısını kontrol etme\n",
    "print(veri[\"Duygu\"].value_counts())\n",
    "\n",
    "# Örnek bir cümle analiz etmek için alıyoruz.\n",
    "ornek_cumle = \"Personelin ilgisi çok güzeldi ama yemeklerin tadı hayal kırıklığıydı.\"\n",
    "olumlu_kelimeler = [\"lezzetli\", \"harika\", \"iyi\", \"mükemmel\", \"güzel\"]\n",
    "olumsuz_kelimeler = [\"yavaş\", \"kötü\", \"berbat\", \"korkunç\", \"hayal kırıklığı\"]\n",
    "\n",
    "olumlu_sayisi = sum(kelime in ornek_cumle for kelime in olumlu_kelimeler)\n",
    "olumsuz_sayisi = sum(kelime in ornek_cumle for kelime in olumsuz_kelimeler)\n",
    "\n",
    "if olumlu_sayisi > olumsuz_sayisi:\n",
    "    print(\"Cümle olumlu bir duygu içeriyor.\")\n",
    "elif olumsuz_sayisi > olumlu_sayisi:\n",
    "    print(\"Cümle olumsuz bir duygu içeriyor.\")\n",
    "else:\n",
    "    print(\"Cümle nötr bir duygu içeriyor.\")\n"
   ]
  }
 ],
 "metadata": {
  "kernelspec": {
   "display_name": "Python 3 (ipykernel)",
   "language": "python",
   "name": "python3"
  },
  "language_info": {
   "codemirror_mode": {
    "name": "ipython",
    "version": 3
   },
   "file_extension": ".py",
   "mimetype": "text/x-python",
   "name": "python",
   "nbconvert_exporter": "python",
   "pygments_lexer": "ipython3",
   "version": "3.13.1"
  }
 },
 "nbformat": 4,
 "nbformat_minor": 5
}
